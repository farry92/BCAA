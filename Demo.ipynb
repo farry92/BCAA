{
 "cells": [
  {
   "cell_type": "code",
   "execution_count": 27,
   "id": "10b6b5b9-0c40-4af7-b6e0-7d3edc79834e",
   "metadata": {
    "scrolled": true
   },
   "outputs": [
    {
     "name": "stdout",
     "output_type": "stream",
     "text": [
      "2025-09-25 13:51:19,220 [INFO] 使用设备: cuda\n",
      "2025-09-25 13:51:19,220 [INFO] 使用模型: deepseek-chat\n",
      "2025-09-25 13:51:19,220 [INFO] 开始初始化 MedicalProcessor 组件\n",
      "2025-09-25 13:51:19,220 [INFO] 初始化API客户端...\n",
      "2025-09-25 13:51:19,220 [INFO] 初始化API客户端: DeepSeek API\n",
      "2025-09-25 13:51:19,536 [INFO] API客户端初始化成功\n",
      "2025-09-25 13:51:19,536 [INFO] API客户端初始化成功\n",
      "2025-09-25 13:51:19,536 [INFO] 初始化重排序模型...\n",
      "2025-09-25 13:51:19,536 [INFO] 初始化重排序模型: Qwen/Qwen3-Reranker-0.6B\n",
      "2025-09-25 13:51:22,681 [INFO] 特殊token初始化成功: True=2514, False=4049\n",
      "2025-09-25 13:51:22,682 [INFO] 重排序模型初始化成功\n",
      "2025-09-25 13:51:22,682 [INFO] 重排序模型初始化成功\n",
      "2025-09-25 13:51:22,682 [INFO] 开始加载向量库...\n",
      "2025-09-25 13:51:22,682 [INFO] 开始加载向量库...\n",
      "2025-09-25 13:51:22,682 [INFO] 初始化嵌入模型...\n",
      "2025-09-25 13:51:22,682 [INFO] 设备: cuda\n",
      "2025-09-25 13:51:22,682 [INFO] 模型路径: /mnt/fang/qwen3_embedding_0.6B_finetuned_inbatch_pro_earlystop\n",
      "2025-09-25 13:51:23,319 [INFO] Load pretrained SentenceTransformer: /mnt/fang/qwen3_embedding_0.6B_finetuned_inbatch_pro_earlystop\n",
      "2025-09-25 13:51:23,319 [WARNING] No sentence-transformers model found with name /mnt/fang/qwen3_embedding_0.6B_finetuned_inbatch_pro_earlystop. Creating a new one with mean pooling.\n",
      "2025-09-25 13:51:25,833 [INFO] 嵌入模型加载成功，维度: 1024\n",
      "2025-09-25 13:51:25,906 [INFO] Loading faiss with AVX512 support.\n",
      "2025-09-25 13:51:25,922 [INFO] Successfully loaded faiss with AVX512 support.\n",
      "2025-09-25 13:51:25,925 [INFO] Failed to load GPU Faiss: name 'GpuIndexIVFFlat' is not defined. Will not load constructor refs for GPU indexes. This is only an error if you're trying to use GPU Faiss.\n",
      "2025-09-25 13:51:25,989 [INFO] 主向量库加载完成: 5164文档\n",
      "2025-09-25 13:51:25,991 [INFO] 症状向量库加载完成: 426文档\n",
      "2025-09-25 13:51:25,991 [INFO] 向量库加载耗时: 3.31秒\n",
      "2025-09-25 13:51:25,991 [INFO] 向量库加载耗时: 3.31秒\n",
      "2025-09-25 13:51:25,991 [INFO] MedicalProcessor 初始化完成\n",
      "2025-09-25 13:51:25,991 [INFO] 加载输入数据\n",
      "2025-09-25 13:51:25,991 [INFO] 使用单个术语: '我感觉头晕晕的，很不舒服'\n",
      "2025-09-25 13:51:25,991 [INFO] 使用单个问题类型: '症状'\n",
      "2025-09-25 13:51:25,991 [INFO] 总查询数: 1 (1个术语 × 1个问题类型)\n",
      "2025-09-25 13:51:25,991 [INFO] 检查历史处理进度\n",
      "2025-09-25 13:51:25,991 [INFO] 发现历史进度文件，1个查询已完成\n",
      "2025-09-25 13:51:25,991 [INFO] 已加载 1 个已完成查询的历史记录\n",
      "2025-09-25 13:51:25,992 [INFO] 将处理 0 个查询\n",
      "2025-09-25 13:51:25,992 [INFO] 所有查询已完成，或没有待处理的查询\n"
     ]
    }
   ],
   "source": [
    "!python3 main.py \\\n",
    "    --vector_path \"/home/fangyi1/Deepseek项目/RAG项目/medical_retrieval/MedSE2RAG/data/vector_database/all_pdfs_vector_db_qwen3/\" \\\n",
    "    --output_dir ./output \\\n",
    "    --term \"我感觉头晕晕的，很不舒服\" \\\n",
    "    --question_type \"症状\""
   ]
  },
  {
   "cell_type": "code",
   "execution_count": 51,
   "id": "340da9ed-9e51-4814-8822-6b09ace836cd",
   "metadata": {
    "scrolled": true
   },
   "outputs": [
    {
     "name": "stdout",
     "output_type": "stream",
     "text": [
      "\u001b[0m\n",
      "\u001b[34m\u001b[1m  You can now view your Streamlit app in your browser.\u001b[0m\n",
      "\u001b[0m\n",
      "\u001b[34m  Local URL: \u001b[0m\u001b[1mhttp://localhost:8501\u001b[0m\n",
      "\u001b[34m  Network URL: \u001b[0m\u001b[1mhttp://10.249.42.129:8501\u001b[0m\n",
      "\u001b[0m\n",
      "2025-09-25 15:59:58.032 Serialization of dataframe to Arrow table was unsuccessful. Applying automatic fixes for column types to make the dataframe Arrow-compatible.\n",
      "Traceback (most recent call last):\n",
      "  File \"/home/fangyi1/.local/lib/python3.10/site-packages/streamlit/dataframe_util.py\", line 822, in convert_pandas_df_to_arrow_bytes\n",
      "    table = pa.Table.from_pandas(df)\n",
      "  File \"pyarrow/table.pxi\", line 4793, in pyarrow.lib.Table.from_pandas\n",
      "  File \"/home/fangyi1/.local/lib/python3.10/site-packages/pyarrow/pandas_compat.py\", line 639, in dataframe_to_arrays\n",
      "    arrays = [convert_column(c, f)\n",
      "  File \"/home/fangyi1/.local/lib/python3.10/site-packages/pyarrow/pandas_compat.py\", line 639, in <listcomp>\n",
      "    arrays = [convert_column(c, f)\n",
      "  File \"/home/fangyi1/.local/lib/python3.10/site-packages/pyarrow/pandas_compat.py\", line 626, in convert_column\n",
      "    raise e\n",
      "  File \"/home/fangyi1/.local/lib/python3.10/site-packages/pyarrow/pandas_compat.py\", line 620, in convert_column\n",
      "    result = pa.array(col, type=type_, from_pandas=True, safe=safe)\n",
      "  File \"pyarrow/array.pxi\", line 365, in pyarrow.lib.array\n",
      "  File \"pyarrow/array.pxi\", line 90, in pyarrow.lib._ndarray_to_array\n",
      "  File \"pyarrow/error.pxi\", line 92, in pyarrow.lib.check_status\n",
      "pyarrow.lib.ArrowInvalid: (\"Could not convert '未评分' with type str: tried to convert to int64\", 'Conversion failed for column 评分 with type object')\n",
      "^C\n",
      "\u001b[34m  Stopping...\u001b[0m\n"
     ]
    }
   ],
   "source": [
    "!streamlit run web_app.py"
   ]
  },
  {
   "cell_type": "code",
   "execution_count": 54,
   "id": "ff7207ed-a305-4dfc-a006-8607cf9b83e0",
   "metadata": {},
   "outputs": [],
   "source": [
    "!cd \"/home/fangyi1/Deepseek项目/RAG项目/medical_retrieval/BCAA/\""
   ]
  },
  {
   "cell_type": "code",
   "execution_count": 55,
   "id": "3026e159-5fdc-43af-9d91-aa740ea32f43",
   "metadata": {},
   "outputs": [
    {
     "name": "stdout",
     "output_type": "stream",
     "text": [
      "\u001b[33m提示：使用 'master' 作为初始分支的名称。这个默认分支名称可能会更改。要在新仓库中\u001b[m\n",
      "\u001b[33m提示：配置使用初始分支名，并消除这条警告，请执行：\u001b[m\n",
      "\u001b[33m提示：\u001b[m\n",
      "\u001b[33m提示：\tgit config --global init.defaultBranch <名称>\u001b[m\n",
      "\u001b[33m提示：\u001b[m\n",
      "\u001b[33m提示：除了 'master' 之外，通常选定的名字有 'main'、'trunk' 和 'development'。\u001b[m\n",
      "\u001b[33m提示：可以通过以下命令重命名刚创建的分支：\u001b[m\n",
      "\u001b[33m提示：\u001b[m\n",
      "\u001b[33m提示：\tgit branch -m <name>\u001b[m\n",
      "已初始化空的 Git 仓库于 /home/fangyi1/Deepseek项目/RAG项目/medical_retrieval/BCAA/.git/\n"
     ]
    }
   ],
   "source": [
    "!git init"
   ]
  },
  {
   "cell_type": "code",
   "execution_count": 56,
   "id": "60b213f6-79e6-48f9-b4b9-afd3b13e81f7",
   "metadata": {},
   "outputs": [],
   "source": [
    "!git add ."
   ]
  },
  {
   "cell_type": "code",
   "execution_count": 57,
   "id": "ecfc0f16-9fb7-4e7b-af34-25febbe0c4d4",
   "metadata": {},
   "outputs": [],
   "source": [
    "!touch .gitignore"
   ]
  },
  {
   "cell_type": "code",
   "execution_count": 61,
   "id": "f753468d-0c8b-4df9-940c-4bca537be4ba",
   "metadata": {},
   "outputs": [],
   "source": [
    "!git config --global user.email \"farry92@163.com\""
   ]
  },
  {
   "cell_type": "code",
   "execution_count": 64,
   "id": "3ca11d21-fc87-4283-97d4-ac8ce287c078",
   "metadata": {},
   "outputs": [],
   "source": [
    "!git remote add origin git@github.com:farry92/BCAA.git"
   ]
  },
  {
   "cell_type": "code",
   "execution_count": 67,
   "id": "9e313743-8e61-4ea8-8bdd-6ce7b63c85a0",
   "metadata": {},
   "outputs": [
    {
     "name": "stdout",
     "output_type": "stream",
     "text": [
      "error: 未知开关 `y'\n",
      "用法：git pull [<选项>] [<仓库> [<引用规格>...]]\n",
      "\n",
      "    -v, --verbose         更加详细\n",
      "    -q, --quiet           更加安静\n",
      "    --progress            强制显示进度报告\n",
      "    --recurse-submodules[=<on-demand>]\n",
      "                          控制子模组的递归获取\n",
      "\n",
      "和合并相关的选项\n",
      "    -r, --rebase[=(false|true|merges|interactive)]\n",
      "                          使用变基操作取代合并操作以合入修改\n",
      "    -n                    在合并的最后不显示差异统计\n",
      "    --stat                在合并的最后显示差异统计\n",
      "    --log[=<n>]           在合并提交信息中添加（最多 <n> 条）精简提交记录\n",
      "    --signoff[=...]       添加 Signed-off-by 尾注\n",
      "    --squash              创建一个单独的提交而不是做一次合并\n",
      "    --commit              如果合并成功，执行一次提交（默认）\n",
      "    --edit                在提交前编辑提交说明\n",
      "    --cleanup <模式>      设置如何删除提交说明里的空格和#注释\n",
      "    --ff                  允许快进式\n",
      "    --ff-only             如果不能快进就放弃合并\n",
      "    --verify              控制 pre-merge-commit 和 commit-msg 钩子的使用\n",
      "    --verify-signatures   验证指定的提交是否包含一个有效的 GPG 签名\n",
      "    --autostash           在操作前后执行自动贮藏和弹出贮藏\n",
      "    -s, --strategy <策略>\n",
      "                          要使用的合并策略\n",
      "    -X, --strategy-option <option=value>\n",
      "                          所选的合并策略的选项\n",
      "    -S, --gpg-sign[=<key-id>]\n",
      "                          GPG 提交签名\n",
      "    --allow-unrelated-histories\n",
      "                          允许合并不相关的历史\n",
      "\n",
      "和获取相关的参数\n",
      "    --all                 从所有远程抓取\n",
      "    -a, --append          追加到 .git/FETCH_HEAD 而不是覆盖它\n",
      "    --upload-pack <路径>  上传包到远程的路径\n",
      "    -f, --force           强制覆盖本地分支\n",
      "    -t, --tags            抓取所有的标签和关联对象\n",
      "    -p, --prune           清除远程已经不存在的分支的跟踪分支\n",
      "    -j, --jobs[=<n>]      并发拉取的子模组的数量\n",
      "    --dry-run             演习\n",
      "    -k, --keep            保持已下载的包\n",
      "    --depth <深度>        深化浅克隆的历史\n",
      "    --shallow-since <时间>\n",
      "                          基于时间来深化浅克隆的历史\n",
      "    --shallow-exclude <版本>\n",
      "                          深化浅克隆的历史，除了特定版本\n",
      "    --deepen <n>          深化浅克隆的历史\n",
      "    --unshallow           转换为一个完整的仓库\n",
      "    --update-shallow      接受更新 .git/shallow 的引用\n",
      "    --refmap <引用映射>   指定获取操作的引用映射\n",
      "    -o, --server-option <server-specific>\n",
      "                          传输选项\n",
      "    -4, --ipv4            只使用 IPv4 地址\n",
      "    -6, --ipv6            只使用 IPv6 地址\n",
      "    --negotiation-tip <版本>\n",
      "                          报告我们只拥有从该对象开始可达的对象\n",
      "    --show-forced-updates\n",
      "                          在所有更新分支上检查强制更新\n",
      "    --set-upstream        为 git pull/fetch 设置上游\n",
      "\n"
     ]
    }
   ],
   "source": [
    "!git pull origin main --allow-unrelated-histories -y"
   ]
  },
  {
   "cell_type": "code",
   "execution_count": null,
   "id": "70b47aa2-49df-4f87-bf8f-77f978380ade",
   "metadata": {},
   "outputs": [],
   "source": []
  }
 ],
 "metadata": {
  "kernelspec": {
   "display_name": "Python (mypytorch)",
   "language": "python",
   "name": "mypytorch"
  },
  "language_info": {
   "codemirror_mode": {
    "name": "ipython",
    "version": 3
   },
   "file_extension": ".py",
   "mimetype": "text/x-python",
   "name": "python",
   "nbconvert_exporter": "python",
   "pygments_lexer": "ipython3",
   "version": "3.9.21"
  }
 },
 "nbformat": 4,
 "nbformat_minor": 5
}
